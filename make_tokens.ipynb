{
 "cells": [
  {
   "cell_type": "code",
   "execution_count": 4,
   "metadata": {},
   "outputs": [
    {
     "name": "stdout",
     "output_type": "stream",
     "text": [
      "['Do', 'you', 'want', 'to', 'build', 'a', 'snowman', '?', 'Come', 'out', ',', 'let', \"'s\", 'go', 'out', 'and', 'play', '.']\n"
     ]
    }
   ],
   "source": [
    "#import word_tokenize from NLTK library\n",
    "from nltk.tokenize import word_tokenize\n",
    "\n",
    "#initialize variable text \n",
    "text=\"Do you want to build a snowman? Come out, let's go out and play.\"\n",
    "\n",
    "#Pass parameter text into method word_tokenize\n",
    "print(word_tokenize(text))"
   ]
  },
  {
   "cell_type": "code",
   "execution_count": 10,
   "metadata": {},
   "outputs": [],
   "source": [
    "#import sent_tokenize from NLTK library\n",
    "from nltk.tokenize import sent_tokenize\n",
    "\n",
    "#parse text into method sent_tokenization\n",
    "sentence=sent_tokenize(text)"
   ]
  },
  {
   "cell_type": "code",
   "execution_count": 13,
   "metadata": {},
   "outputs": [
    {
     "name": "stdout",
     "output_type": "stream",
     "text": [
      "['Do', 'you', 'want', 'to', 'build', 'a', 'snowman', '?']\n"
     ]
    }
   ],
   "source": [
    "print(word_tokenize(sentence[0]))"
   ]
  },
  {
   "cell_type": "code",
   "execution_count": 14,
   "metadata": {},
   "outputs": [
    {
     "name": "stdout",
     "output_type": "stream",
     "text": [
      "['Come', 'out', ',', 'let', \"'s\", 'go', 'out', 'and', 'play', '.']\n"
     ]
    }
   ],
   "source": [
    "print(word_tokenize(sentence[1]))"
   ]
  },
  {
   "cell_type": "code",
   "execution_count": null,
   "metadata": {},
   "outputs": [],
   "source": []
  },
  {
   "cell_type": "code",
   "execution_count": 16,
   "metadata": {},
   "outputs": [],
   "source": [
    "\n",
    "sentences=\"Do you want to build a snowman? It doesn't have to be a snowman. Do you want to build a snowman?\""
   ]
  },
  {
   "cell_type": "code",
   "execution_count": 17,
   "metadata": {},
   "outputs": [
    {
     "name": "stdout",
     "output_type": "stream",
     "text": [
      "['Do', 'you', 'want', 'to', 'build', 'a', 'snowman', '?', 'It', 'does', \"n't\", 'have', 'to', 'be', 'a', 'snowman', '.', 'Do', 'you', 'want', 'to', 'build', 'a', 'snowman', '?']\n"
     ]
    }
   ],
   "source": [
    "print(word_tokenize(sentences))"
   ]
  },
  {
   "cell_type": "code",
   "execution_count": 21,
   "metadata": {},
   "outputs": [],
   "source": []
  },
  {
   "cell_type": "code",
   "execution_count": 29,
   "metadata": {},
   "outputs": [],
   "source": [
    "#remove punctuation \n",
    "from nltk.tokenize import RegexpTokenizer\n"
   ]
  },
  {
   "cell_type": "code",
   "execution_count": 30,
   "metadata": {},
   "outputs": [],
   "source": [
    "#assign tokenizer \n",
    "tokenizer=RegexpTokenizer(r'\\w+')"
   ]
  },
  {
   "cell_type": "code",
   "execution_count": 32,
   "metadata": {},
   "outputs": [],
   "source": [
    "myText=\"Do you want to build a snowman? It doesn't have to be a snowman. Do you want to build a snowman?\""
   ]
  },
  {
   "cell_type": "code",
   "execution_count": 33,
   "metadata": {},
   "outputs": [],
   "source": [
    "words=tokenizer.tokenize(myText)"
   ]
  },
  {
   "cell_type": "code",
   "execution_count": 34,
   "metadata": {},
   "outputs": [
    {
     "name": "stdout",
     "output_type": "stream",
     "text": [
      "['Do', 'you', 'want', 'to', 'build', 'a', 'snowman', 'It', 'doesn', 't', 'have', 'to', 'be', 'a', 'snowman', 'Do', 'you', 'want', 'to', 'build', 'a', 'snowman']\n"
     ]
    }
   ],
   "source": [
    "print(words)"
   ]
  },
  {
   "cell_type": "code",
   "execution_count": null,
   "metadata": {},
   "outputs": [],
   "source": []
  }
 ],
 "metadata": {
  "kernelspec": {
   "display_name": "Python 3",
   "language": "python",
   "name": "python3"
  },
  "language_info": {
   "codemirror_mode": {
    "name": "ipython",
    "version": 3
   },
   "file_extension": ".py",
   "mimetype": "text/x-python",
   "name": "python",
   "nbconvert_exporter": "python",
   "pygments_lexer": "ipython3",
   "version": "3.7.1"
  }
 },
 "nbformat": 4,
 "nbformat_minor": 2
}
