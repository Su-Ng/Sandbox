{
 "cells": [
  {
   "cell_type": "code",
   "execution_count": 29,
   "metadata": {},
   "outputs": [],
   "source": [
    "import nltk"
   ]
  },
  {
   "cell_type": "code",
   "execution_count": 30,
   "metadata": {},
   "outputs": [],
   "source": [
    "text=\"Hello World! Thanks for reading my blog! I love Programming\""
   ]
  },
  {
   "cell_type": "code",
   "execution_count": 31,
   "metadata": {},
   "outputs": [],
   "source": [
    "sentence=nltk.sent_tokenize(text)"
   ]
  },
  {
   "cell_type": "code",
   "execution_count": 32,
   "metadata": {},
   "outputs": [
    {
     "name": "stdout",
     "output_type": "stream",
     "text": [
      "[('Hello', 'NNP'), ('World', 'NNP'), ('!', '.'), ('Thanks', 'NNS'), ('for', 'IN'), ('reading', 'VBG'), ('my', 'PRP$'), ('blog', 'NN'), ('!', '.'), ('I', 'PRP'), ('love', 'VBP'), ('Programming', 'VBG')]\n",
      "[('Hello', 'NNP'), ('World', 'NNP'), ('!', '.'), ('Thanks', 'NNS'), ('for', 'IN'), ('reading', 'VBG'), ('my', 'PRP$'), ('blog', 'NN'), ('!', '.'), ('I', 'PRP'), ('love', 'VBP'), ('Programming', 'VBG')]\n",
      "[('Hello', 'NNP'), ('World', 'NNP'), ('!', '.'), ('Thanks', 'NNS'), ('for', 'IN'), ('reading', 'VBG'), ('my', 'PRP$'), ('blog', 'NN'), ('!', '.'), ('I', 'PRP'), ('love', 'VBP'), ('Programming', 'VBG')]\n"
     ]
    }
   ],
   "source": [
    "for sent in sentence: \n",
    "    print(nltk.pos_tag(nltk.word_tokenize(text)))\n",
    "    "
   ]
  },
  {
   "cell_type": "code",
   "execution_count": 33,
   "metadata": {},
   "outputs": [],
   "source": [
    "from collections import Counter\n",
    "import nltk\n"
   ]
  },
  {
   "cell_type": "code",
   "execution_count": 37,
   "metadata": {},
   "outputs": [],
   "source": [
    "# text is a variable that contains the sentences whose pos_tag is to be counted\n",
    "text =\"Let it go, let it go Can't hold it back anymore Let it go, let it go\""
   ]
  },
  {
   "cell_type": "code",
   "execution_count": 38,
   "metadata": {},
   "outputs": [],
   "source": [
    "# convert text to lowercase\n",
    "lower_case=text.lower()"
   ]
  },
  {
   "cell_type": "code",
   "execution_count": 39,
   "metadata": {},
   "outputs": [
    {
     "name": "stdout",
     "output_type": "stream",
     "text": [
      "let it go, let it go can't hold it back anymore let it go, let it go\n"
     ]
    }
   ],
   "source": [
    "print(lower_case)"
   ]
  },
  {
   "cell_type": "code",
   "execution_count": 40,
   "metadata": {},
   "outputs": [
    {
     "name": "stdout",
     "output_type": "stream",
     "text": [
      "['let', 'it', 'go', ',', 'let', 'it', 'go', 'ca', \"n't\", 'hold', 'it', 'back', 'anymore', 'let', 'it', 'go', ',', 'let', 'it', 'go']\n"
     ]
    }
   ],
   "source": [
    "# tokenize the text \n",
    "tokens = nltk.word_tokenize(lower_case)\n",
    "print(tokens)"
   ]
  },
  {
   "cell_type": "code",
   "execution_count": 41,
   "metadata": {},
   "outputs": [
    {
     "name": "stdout",
     "output_type": "stream",
     "text": [
      "[('let', 'VB'), ('it', 'PRP'), ('go', 'VB'), (',', ','), ('let', 'VB'), ('it', 'PRP'), ('go', 'VB'), ('ca', 'MD'), (\"n't\", 'RB'), ('hold', 'VB'), ('it', 'PRP'), ('back', 'RB'), ('anymore', 'RB'), ('let', 'NN'), ('it', 'PRP'), ('go', 'VB'), (',', ','), ('let', 'VB'), ('it', 'PRP'), ('go', 'VB')]\n"
     ]
    }
   ],
   "source": [
    "# assign a pos_tag to each token\n",
    "tags = nltk.pos_tag(tokens)\n",
    "print(tags)"
   ]
  },
  {
   "cell_type": "code",
   "execution_count": 42,
   "metadata": {},
   "outputs": [],
   "source": [
    "# dictionary counter, words are the key and tags are the \n",
    "# value, Counter will count each tag total count present in the text\n",
    "counts = Counter( tag for word,  tag in tags)"
   ]
  },
  {
   "cell_type": "code",
   "execution_count": 43,
   "metadata": {},
   "outputs": [
    {
     "name": "stdout",
     "output_type": "stream",
     "text": [
      "Counter({'VB': 8, 'PRP': 5, 'RB': 3, ',': 2, 'MD': 1, 'NN': 1})\n"
     ]
    }
   ],
   "source": [
    "print(counts)"
   ]
  },
  {
   "cell_type": "code",
   "execution_count": 44,
   "metadata": {},
   "outputs": [],
   "source": [
    "import nltk\n"
   ]
  },
  {
   "cell_type": "code",
   "execution_count": 67,
   "metadata": {},
   "outputs": [],
   "source": [
    "# text is a variable that contains the sentences where the frequency is to be plotted\n",
    "text =\"Let it go, let it go Can't hold it back anymore Let it go, let it go\""
   ]
  },
  {
   "cell_type": "code",
   "execution_count": 68,
   "metadata": {},
   "outputs": [],
   "source": [
    "# convert to lowercase \n",
    "text_lowercase=text.lower()"
   ]
  },
  {
   "cell_type": "code",
   "execution_count": 69,
   "metadata": {},
   "outputs": [],
   "source": [
    "# tokenize the text\n",
    "text_tokens=nltk.tokenize.word_tokenize(text_lowercase)"
   ]
  },
  {
   "cell_type": "code",
   "execution_count": 70,
   "metadata": {},
   "outputs": [],
   "source": [
    "# returns the frequency \n",
    "fd=nltk.FreqDist(text_tokens)"
   ]
  },
  {
   "cell_type": "code",
   "execution_count": 72,
   "metadata": {},
   "outputs": [
    {
     "data": {
      "image/png": "[encoded data removed]",
      "text/plain": [
       "<Figure size 432x288 with 1 Axes>"
      ]
     },
     "metadata": {
      "needs_background": "light"
     },
     "output_type": "display_data"
    },
    {
     "data": {
      "text/plain": [
       "<matplotlib.axes._subplots.AxesSubplot at 0x2b1e7132048>"
      ]
     },
     "execution_count": 72,
     "metadata": {},
     "output_type": "execute_result"
    }
   ],
   "source": [
    "# plot the words \n",
    "fd.plot()"
   ]
  },
  {
   "cell_type": "code",
   "execution_count": null,
   "metadata": {},
   "outputs": [],
   "source": []
  }
 ],
 "metadata": {
  "kernelspec": {
   "display_name": "Python 3",
   "language": "python",
   "name": "python3"
  },
  "language_info": {
   "codemirror_mode": {
    "name": "ipython",
    "version": 3
   },
   "file_extension": ".py",
   "mimetype": "text/x-python",
   "name": "python",
   "nbconvert_exporter": "python",
   "pygments_lexer": "ipython3",
   "version": "3.7.4"
  }
 },
 "nbformat": 4,
 "nbformat_minor": 2
}
